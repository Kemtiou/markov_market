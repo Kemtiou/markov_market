{
 "cells": [
  {
   "cell_type": "code",
   "execution_count": 1,
   "source": [
    "import pandas as pd\n",
    "import random\n",
    "import glob"
   ],
   "outputs": [],
   "metadata": {}
  },
  {
   "cell_type": "markdown",
   "source": [
    "- dataframe for one customer "
   ],
   "metadata": {}
  },
  {
   "cell_type": "code",
   "execution_count": 2,
   "source": [
    "def get_one_customer(data, weekday_tag, customer_no):\n",
    "    \"\"\"\n",
    "    input:\n",
    "        data: dataframe - containing data of one weekday\n",
    "        weekday_tag: str - e.g. 'mo','tu','we','th','fr'\n",
    "        ustomer_no: int - as in the data dataframe\n",
    "    output dataframe for one customer: \n",
    "        timestamp : 1min frequency\n",
    "        customer_id : str weekday_tag + customer_no\n",
    "        location : location at correspoinding time \n",
    "    \"\"\"\n",
    "    # get data of one customer\n",
    "    one_customer = data.loc[data['customer_no']==customer_no]\n",
    "    # generate complete time index\n",
    "    one_timeind = pd.date_range(start=one_customer.index[0], end=one_customer.index[-1], freq='min')\n",
    "    # initiate dataframe with complete time index\n",
    "    df_one = pd.DataFrame({'timestamp' : one_timeind})\n",
    "    # modify customer id by adding weekday information\n",
    "    df_one['customer_id'] = weekday_tag + str(customer_no)\n",
    "    # fill in the dataframe\n",
    "    df_one = df_one.merge(one_customer['location'].reset_index(), on=['timestamp'], how='left').fillna(method='ffill')\n",
    "    \n",
    "    # for consistancy : each customer start with entrance, stop with checkout \n",
    "    df_one['before'] = pd.Series({0 : 'entrance'}).append(df_one['location'][:-1]).values\n",
    "    df_one['after'] = df_one['location']\n",
    "    # if not ended by checkout add one line ending with checkout\n",
    "    if df_one['after'].iloc[-1] != 'checkout':\n",
    "        df_one = df_one.append(df_one.iloc[-1])\n",
    "        df_one['after'].iloc[-1] = 'checkout'\n",
    "\n",
    "    return df_one"
   ],
   "outputs": [],
   "metadata": {}
  },
  {
   "cell_type": "markdown",
   "source": [
    "- generate dataframe containing all customers on monday or whole week"
   ],
   "metadata": {}
  },
  {
   "cell_type": "code",
   "execution_count": null,
   "source": [
    "# data_mo = pd.DataFrame(columns=['timestamp', 'customer_id', 'location', 'before', 'after'])\n",
    "# df = pd.read_csv('../data/monday.csv', sep=';', parse_dates=True, index_col=[0])\n",
    "# for i_customers in df['customer_no'].unique():\n",
    "#     one_customer = get_one_customer(df, 'mo', i_customers)\n",
    "#     data_mo = data_mo.append(one_customer)\n",
    "\n",
    "# data_mo.to_csv('data_monday.csv')"
   ],
   "outputs": [],
   "metadata": {}
  },
  {
   "cell_type": "code",
   "execution_count": null,
   "source": [
    "# data_all = pd.DataFrame(columns=['timestamp', 'customer_id', 'location', 'after'])\n",
    "# for file in glob.glob('../data/*.csv'):\n",
    "#     weekday_tag = file[8:10]\n",
    "#     print(weekday_tag)\n",
    "#     df = pd.read_csv(file, sep=';', parse_dates=True, index_col=[0])\n",
    "#     for i_customers in df['customer_no'].unique():\n",
    "#         one_customer = get_one_customer(df, weekday_tag, i_customers)\n",
    "#         data_all = data_all.append(one_customer)\n",
    "# data_all.to_csv('data_all.csv')"
   ],
   "outputs": [],
   "metadata": {}
  },
  {
   "cell_type": "markdown",
   "source": [
    "- calculate the transformation probability matrix with data_mo"
   ],
   "metadata": {}
  },
  {
   "cell_type": "code",
   "execution_count": 3,
   "source": [
    "def calculate_tpm(data_mo):\n",
    "    \"\"\"\n",
    "    calculate the transformation probability matrix\n",
    "    input : dataframe at least contains a 'before' and an 'after' column\n",
    "    output : dataframe of size n_state x n_state\n",
    "    \"\"\"\n",
    "    # iniciate transformation probability matrix\n",
    "    states = ['entrance', 'dairy', 'drinks', 'fruit','spices','checkout']\n",
    "    tpm = pd.DataFrame(0, index=states, columns=states)\n",
    "    # fill with monday data probabilities\n",
    "    tpm_fill = tpm + pd.crosstab(data_mo['before'], data_mo['after'], normalize=0)\n",
    "    # fillna with probability=0\n",
    "    tpm_fill.fillna(0, inplace=True)\n",
    "    # checkout the absorbtion state\n",
    "    tpm_fill['checkout'].iloc[tpm_fill.index == 'checkout'] = 1\n",
    "    return tpm_fill\n",
    "\n",
    "data_mo = pd.read_csv('data_monday.csv')\n",
    "tpm = calculate_tpm(data_mo)\n",
    "tpm"
   ],
   "outputs": [
    {
     "output_type": "execute_result",
     "data": {
      "text/plain": [
       "          checkout     dairy    drinks  entrance     fruit    spices\n",
       "checkout  1.000000  0.000000  0.000000       0.0  0.000000  0.000000\n",
       "dairy     0.089061  0.744559  0.062428       0.0  0.051546  0.052405\n",
       "drinks    0.209268  0.011220  0.609756       0.0  0.090732  0.079024\n",
       "entrance  0.002757  0.283942  0.159890       0.0  0.358374  0.195038\n",
       "fruit     0.205479  0.088063  0.050881       0.0  0.607828  0.047750\n",
       "spices    0.145069  0.191524  0.176854       0.0  0.096985  0.389568"
      ],
      "text/html": [
       "<div>\n",
       "<style scoped>\n",
       "    .dataframe tbody tr th:only-of-type {\n",
       "        vertical-align: middle;\n",
       "    }\n",
       "\n",
       "    .dataframe tbody tr th {\n",
       "        vertical-align: top;\n",
       "    }\n",
       "\n",
       "    .dataframe thead th {\n",
       "        text-align: right;\n",
       "    }\n",
       "</style>\n",
       "<table border=\"1\" class=\"dataframe\">\n",
       "  <thead>\n",
       "    <tr style=\"text-align: right;\">\n",
       "      <th></th>\n",
       "      <th>checkout</th>\n",
       "      <th>dairy</th>\n",
       "      <th>drinks</th>\n",
       "      <th>entrance</th>\n",
       "      <th>fruit</th>\n",
       "      <th>spices</th>\n",
       "    </tr>\n",
       "  </thead>\n",
       "  <tbody>\n",
       "    <tr>\n",
       "      <th>checkout</th>\n",
       "      <td>1.000000</td>\n",
       "      <td>0.000000</td>\n",
       "      <td>0.000000</td>\n",
       "      <td>0.0</td>\n",
       "      <td>0.000000</td>\n",
       "      <td>0.000000</td>\n",
       "    </tr>\n",
       "    <tr>\n",
       "      <th>dairy</th>\n",
       "      <td>0.089061</td>\n",
       "      <td>0.744559</td>\n",
       "      <td>0.062428</td>\n",
       "      <td>0.0</td>\n",
       "      <td>0.051546</td>\n",
       "      <td>0.052405</td>\n",
       "    </tr>\n",
       "    <tr>\n",
       "      <th>drinks</th>\n",
       "      <td>0.209268</td>\n",
       "      <td>0.011220</td>\n",
       "      <td>0.609756</td>\n",
       "      <td>0.0</td>\n",
       "      <td>0.090732</td>\n",
       "      <td>0.079024</td>\n",
       "    </tr>\n",
       "    <tr>\n",
       "      <th>entrance</th>\n",
       "      <td>0.002757</td>\n",
       "      <td>0.283942</td>\n",
       "      <td>0.159890</td>\n",
       "      <td>0.0</td>\n",
       "      <td>0.358374</td>\n",
       "      <td>0.195038</td>\n",
       "    </tr>\n",
       "    <tr>\n",
       "      <th>fruit</th>\n",
       "      <td>0.205479</td>\n",
       "      <td>0.088063</td>\n",
       "      <td>0.050881</td>\n",
       "      <td>0.0</td>\n",
       "      <td>0.607828</td>\n",
       "      <td>0.047750</td>\n",
       "    </tr>\n",
       "    <tr>\n",
       "      <th>spices</th>\n",
       "      <td>0.145069</td>\n",
       "      <td>0.191524</td>\n",
       "      <td>0.176854</td>\n",
       "      <td>0.0</td>\n",
       "      <td>0.096985</td>\n",
       "      <td>0.389568</td>\n",
       "    </tr>\n",
       "  </tbody>\n",
       "</table>\n",
       "</div>"
      ]
     },
     "metadata": {},
     "execution_count": 3
    }
   ],
   "metadata": {}
  },
  {
   "cell_type": "code",
   "execution_count": 5,
   "source": [
    "tpm.to_csv('tpm.csv')"
   ],
   "outputs": [],
   "metadata": {}
  },
  {
   "cell_type": "markdown",
   "source": [
    "- generate customer behaviour : markov chain simulation"
   ],
   "metadata": {}
  },
  {
   "cell_type": "code",
   "execution_count": 25,
   "source": [
    "def customer_mcmc(tpm):\n",
    "    \"\"\"\n",
    "    simulate customer behavior with markov chain model\n",
    "    input : transition probability matrix\n",
    "    output : list of states starting with entrance and end with checkout\n",
    "    \"\"\"\n",
    "    inside = 1\n",
    "    seq = ['entrance'] # iniciate sequence starting with entrance\n",
    "    while inside:\n",
    "        states = tpm.columns       \n",
    "        state = random.choices(states, weights=tpm.iloc[tpm.index == seq[-1]].values.tolist()[0])\n",
    "        seq += state\n",
    "        if state == ['checkout']:\n",
    "            inside = 0\n",
    "            break\n",
    "        elif len(seq) == 50:\n",
    "            inside = 0\n",
    "            break\n",
    "    return seq\n",
    "\n",
    "seq = customer_mcmc(tpm)\n",
    "seq"
   ],
   "outputs": [
    {
     "output_type": "execute_result",
     "data": {
      "text/plain": [
       "['entrance',\n",
       " 'spices',\n",
       " 'dairy',\n",
       " 'dairy',\n",
       " 'dairy',\n",
       " 'dairy',\n",
       " 'dairy',\n",
       " 'drinks',\n",
       " 'fruit',\n",
       " 'fruit',\n",
       " 'checkout']"
      ]
     },
     "metadata": {},
     "execution_count": 25
    }
   ],
   "metadata": {}
  },
  {
   "cell_type": "code",
   "execution_count": null,
   "source": [],
   "outputs": [],
   "metadata": {}
  }
 ],
 "metadata": {
  "orig_nbformat": 4,
  "language_info": {
   "name": "python",
   "version": "3.8.8",
   "mimetype": "text/x-python",
   "codemirror_mode": {
    "name": "ipython",
    "version": 3
   },
   "pygments_lexer": "ipython3",
   "nbconvert_exporter": "python",
   "file_extension": ".py"
  },
  "kernelspec": {
   "name": "python3",
   "display_name": "Python 3.8.8 64-bit (conda)"
  },
  "interpreter": {
   "hash": "e693f81ce65b2d86a8ccaa4486a6c3213eba987e9092bbfb488d6be295156d0f"
  }
 },
 "nbformat": 4,
 "nbformat_minor": 2
}