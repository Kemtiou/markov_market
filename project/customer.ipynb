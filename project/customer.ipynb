{
 "cells": [
  {
   "cell_type": "code",
   "execution_count": 3,
   "source": [
    "import pandas as pd\n",
    "import numpy as np\n",
    "import random"
   ],
   "outputs": [],
   "metadata": {}
  },
  {
   "cell_type": "code",
   "execution_count": 4,
   "source": [
    "tpm = pd.read_csv('tpm.csv', index_col=[0])\n",
    "tpm"
   ],
   "outputs": [
    {
     "output_type": "execute_result",
     "data": {
      "text/plain": [
       "          checkout     dairy    drinks  entrance     fruit    spices\n",
       "checkout  1.000000  0.000000  0.000000       0.0  0.000000  0.000000\n",
       "dairy     0.089061  0.744559  0.062428       0.0  0.051546  0.052405\n",
       "drinks    0.209268  0.011220  0.609756       0.0  0.090732  0.079024\n",
       "entrance  0.002757  0.283942  0.159890       0.0  0.358374  0.195038\n",
       "fruit     0.205479  0.088063  0.050881       0.0  0.607828  0.047750\n",
       "spices    0.145069  0.191524  0.176854       0.0  0.096985  0.389568"
      ],
      "text/html": [
       "<div>\n",
       "<style scoped>\n",
       "    .dataframe tbody tr th:only-of-type {\n",
       "        vertical-align: middle;\n",
       "    }\n",
       "\n",
       "    .dataframe tbody tr th {\n",
       "        vertical-align: top;\n",
       "    }\n",
       "\n",
       "    .dataframe thead th {\n",
       "        text-align: right;\n",
       "    }\n",
       "</style>\n",
       "<table border=\"1\" class=\"dataframe\">\n",
       "  <thead>\n",
       "    <tr style=\"text-align: right;\">\n",
       "      <th></th>\n",
       "      <th>checkout</th>\n",
       "      <th>dairy</th>\n",
       "      <th>drinks</th>\n",
       "      <th>entrance</th>\n",
       "      <th>fruit</th>\n",
       "      <th>spices</th>\n",
       "    </tr>\n",
       "  </thead>\n",
       "  <tbody>\n",
       "    <tr>\n",
       "      <th>checkout</th>\n",
       "      <td>1.000000</td>\n",
       "      <td>0.000000</td>\n",
       "      <td>0.000000</td>\n",
       "      <td>0.0</td>\n",
       "      <td>0.000000</td>\n",
       "      <td>0.000000</td>\n",
       "    </tr>\n",
       "    <tr>\n",
       "      <th>dairy</th>\n",
       "      <td>0.089061</td>\n",
       "      <td>0.744559</td>\n",
       "      <td>0.062428</td>\n",
       "      <td>0.0</td>\n",
       "      <td>0.051546</td>\n",
       "      <td>0.052405</td>\n",
       "    </tr>\n",
       "    <tr>\n",
       "      <th>drinks</th>\n",
       "      <td>0.209268</td>\n",
       "      <td>0.011220</td>\n",
       "      <td>0.609756</td>\n",
       "      <td>0.0</td>\n",
       "      <td>0.090732</td>\n",
       "      <td>0.079024</td>\n",
       "    </tr>\n",
       "    <tr>\n",
       "      <th>entrance</th>\n",
       "      <td>0.002757</td>\n",
       "      <td>0.283942</td>\n",
       "      <td>0.159890</td>\n",
       "      <td>0.0</td>\n",
       "      <td>0.358374</td>\n",
       "      <td>0.195038</td>\n",
       "    </tr>\n",
       "    <tr>\n",
       "      <th>fruit</th>\n",
       "      <td>0.205479</td>\n",
       "      <td>0.088063</td>\n",
       "      <td>0.050881</td>\n",
       "      <td>0.0</td>\n",
       "      <td>0.607828</td>\n",
       "      <td>0.047750</td>\n",
       "    </tr>\n",
       "    <tr>\n",
       "      <th>spices</th>\n",
       "      <td>0.145069</td>\n",
       "      <td>0.191524</td>\n",
       "      <td>0.176854</td>\n",
       "      <td>0.0</td>\n",
       "      <td>0.096985</td>\n",
       "      <td>0.389568</td>\n",
       "    </tr>\n",
       "  </tbody>\n",
       "</table>\n",
       "</div>"
      ]
     },
     "metadata": {},
     "execution_count": 4
    }
   ],
   "metadata": {}
  },
  {
   "cell_type": "code",
   "execution_count": 30,
   "source": [
    "class Customer:\n",
    "    \"\"\"\n",
    "    a single customer that moves through the supermarket in a MCMC simulation\n",
    "    \"\"\"\n",
    "    STATES = ['checkout', 'dairy', 'drinks', 'entrance', 'fruit', 'spices']\n",
    "    TPM = pd.DataFrame(\n",
    "        [[1., 0., 0., 0., 0., 0.],\n",
    "        [0.08906071, 0.74455899, 0.06242841, 0.        , 0.05154639, 0.0524055 ],\n",
    "        [0.20926829, 0.01121951, 0.6097561 , 0.        , 0.09073171, 0.07902439],\n",
    "        [0.00275672, 0.28394211, 0.15988973, 0.        , 0.35837354, 0.1950379 ],\n",
    "        [0.20547945, 0.08806262, 0.05088063, 0.        , 0.60782779, 0.04774951],\n",
    "        [0.14506927, 0.19152404, 0.17685412, 0.        , 0.09698452, 0.38956805]], \n",
    "        index = STATES, \n",
    "        columns = STATES\n",
    "        )\n",
    "    \n",
    "    def __init__(self, name, state, budget=100):\n",
    "        self.name = name\n",
    "        self.state = state\n",
    "        self.budget = budget\n",
    "\n",
    "    def __repr__(self):\n",
    "        return f'<Customer {self.name} in {self.state}>'\n",
    "\n",
    "    def is_active(self):\n",
    "        \"\"\"Returns True if the customer has not reached the checkout yet.\"\"\"\n",
    "        return self.state != 'checkout'\n",
    "\n",
    "    def next_state(self):\n",
    "        '''\n",
    "        Propagates the customer to the next state.\n",
    "        Returns nothing.\n",
    "        '''\n",
    "        transition_probs = list(TPM.loc[TPM.index==self.state].values[0])\n",
    "        self.state = random.choices(STATES, weights=transition_probs)[0]"
   ],
   "outputs": [],
   "metadata": {}
  },
  {
   "cell_type": "code",
   "execution_count": 34,
   "source": [
    "cust1 = Customer('J', 'drinks')\n",
    "print(cust1)\n",
    "cust1.next_state()\n",
    "print(cust1)\n",
    "cust1.next_state()\n",
    "print(cust1)\n",
    "cust1.is_active()\n",
    "print(cust1)\n",
    "cust1.next_state()\n",
    "print(cust1)\n",
    "cust1.next_state()\n",
    "print(cust1)\n",
    "cust1.is_active()\n",
    "print(cust1)"
   ],
   "outputs": [
    {
     "output_type": "stream",
     "name": "stdout",
     "text": [
      "<Customer J in drinks>\n",
      "6\n",
      "6\n",
      "<Customer J in fruit>\n",
      "6\n",
      "6\n",
      "<Customer J in fruit>\n",
      "<Customer J in fruit>\n",
      "6\n",
      "6\n",
      "<Customer J in dairy>\n",
      "6\n",
      "6\n",
      "<Customer J in dairy>\n",
      "<Customer J in dairy>\n"
     ]
    }
   ],
   "metadata": {}
  },
  {
   "cell_type": "code",
   "execution_count": null,
   "source": [],
   "outputs": [],
   "metadata": {}
  }
 ],
 "metadata": {
  "orig_nbformat": 4,
  "language_info": {
   "name": "python",
   "version": "3.8.8",
   "mimetype": "text/x-python",
   "codemirror_mode": {
    "name": "ipython",
    "version": 3
   },
   "pygments_lexer": "ipython3",
   "nbconvert_exporter": "python",
   "file_extension": ".py"
  },
  "kernelspec": {
   "name": "python3",
   "display_name": "Python 3.8.8 64-bit (conda)"
  },
  "interpreter": {
   "hash": "e693f81ce65b2d86a8ccaa4486a6c3213eba987e9092bbfb488d6be295156d0f"
  }
 },
 "nbformat": 4,
 "nbformat_minor": 2
}