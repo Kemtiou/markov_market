{
 "cells": [
  {
   "cell_type": "code",
   "execution_count": 1,
   "id": "5a978d0d-23e1-48ec-ab6d-7cda514ffa52",
   "metadata": {},
   "outputs": [],
   "source": [
    "import pandas as pd"
   ]
  },
  {
   "cell_type": "code",
   "execution_count": 14,
   "id": "38d7e0ab-3289-4f34-b28f-200e16157373",
   "metadata": {},
   "outputs": [],
   "source": [
    "df_monday = pd.read_csv('data/monday.csv', sep=';',index_col='timestamp', parse_dates=True)"
   ]
  },
  {
   "cell_type": "code",
   "execution_count": 24,
   "id": "dc1e66ef-bfe5-4ecc-9f3f-24278fcb8234",
   "metadata": {},
   "outputs": [
    {
     "data": {
      "text/html": [
       "<div>\n",
       "<style scoped>\n",
       "    .dataframe tbody tr th:only-of-type {\n",
       "        vertical-align: middle;\n",
       "    }\n",
       "\n",
       "    .dataframe tbody tr th {\n",
       "        vertical-align: top;\n",
       "    }\n",
       "\n",
       "    .dataframe thead th {\n",
       "        text-align: right;\n",
       "    }\n",
       "</style>\n",
       "<table border=\"1\" class=\"dataframe\">\n",
       "  <thead>\n",
       "    <tr style=\"text-align: right;\">\n",
       "      <th></th>\n",
       "      <th>customer_no</th>\n",
       "      <th>location</th>\n",
       "    </tr>\n",
       "    <tr>\n",
       "      <th>timestamp</th>\n",
       "      <th></th>\n",
       "      <th></th>\n",
       "    </tr>\n",
       "  </thead>\n",
       "  <tbody>\n",
       "    <tr>\n",
       "      <th>2019-09-02 07:03:00</th>\n",
       "      <td>1</td>\n",
       "      <td>dairy</td>\n",
       "    </tr>\n",
       "    <tr>\n",
       "      <th>2019-09-02 07:03:00</th>\n",
       "      <td>2</td>\n",
       "      <td>dairy</td>\n",
       "    </tr>\n",
       "    <tr>\n",
       "      <th>2019-09-02 07:04:00</th>\n",
       "      <td>3</td>\n",
       "      <td>dairy</td>\n",
       "    </tr>\n",
       "    <tr>\n",
       "      <th>2019-09-02 07:04:00</th>\n",
       "      <td>4</td>\n",
       "      <td>dairy</td>\n",
       "    </tr>\n",
       "  </tbody>\n",
       "</table>\n",
       "</div>"
      ],
      "text/plain": [
       "                     customer_no location\n",
       "timestamp                                \n",
       "2019-09-02 07:03:00            1    dairy\n",
       "2019-09-02 07:03:00            2    dairy\n",
       "2019-09-02 07:04:00            3    dairy\n",
       "2019-09-02 07:04:00            4    dairy"
      ]
     },
     "execution_count": 24,
     "metadata": {},
     "output_type": "execute_result"
    }
   ],
   "source": [
    "df_monday.head(4)"
   ]
  },
  {
   "cell_type": "code",
   "execution_count": 22,
   "id": "d4967281-51ff-4b65-99c5-c76a5a2ed2aa",
   "metadata": {},
   "outputs": [
    {
     "data": {
      "text/html": [
       "<div>\n",
       "<style scoped>\n",
       "    .dataframe tbody tr th:only-of-type {\n",
       "        vertical-align: middle;\n",
       "    }\n",
       "\n",
       "    .dataframe tbody tr th {\n",
       "        vertical-align: top;\n",
       "    }\n",
       "\n",
       "    .dataframe thead th {\n",
       "        text-align: right;\n",
       "    }\n",
       "</style>\n",
       "<table border=\"1\" class=\"dataframe\">\n",
       "  <thead>\n",
       "    <tr style=\"text-align: right;\">\n",
       "      <th></th>\n",
       "      <th>customer_no</th>\n",
       "    </tr>\n",
       "    <tr>\n",
       "      <th>location</th>\n",
       "      <th></th>\n",
       "    </tr>\n",
       "  </thead>\n",
       "  <tbody>\n",
       "    <tr>\n",
       "      <th>checkout</th>\n",
       "      <td>1033227</td>\n",
       "    </tr>\n",
       "    <tr>\n",
       "      <th>dairy</th>\n",
       "      <td>632741</td>\n",
       "    </tr>\n",
       "    <tr>\n",
       "      <th>drinks</th>\n",
       "      <td>589819</td>\n",
       "    </tr>\n",
       "    <tr>\n",
       "      <th>fruit</th>\n",
       "      <td>726945</td>\n",
       "    </tr>\n",
       "    <tr>\n",
       "      <th>spices</th>\n",
       "      <td>525320</td>\n",
       "    </tr>\n",
       "  </tbody>\n",
       "</table>\n",
       "</div>"
      ],
      "text/plain": [
       "          customer_no\n",
       "location             \n",
       "checkout      1033227\n",
       "dairy          632741\n",
       "drinks         589819\n",
       "fruit          726945\n",
       "spices         525320"
      ]
     },
     "execution_count": 22,
     "metadata": {},
     "output_type": "execute_result"
    }
   ],
   "source": [
    "df_monday.groupby(['location']).sum()"
   ]
  },
  {
   "cell_type": "code",
   "execution_count": 32,
   "id": "37e45b19-69cf-4bac-9e67-f4241f70886f",
   "metadata": {},
   "outputs": [
    {
     "data": {
      "text/plain": [
       "<AxesSubplot:xlabel='location'>"
      ]
     },
     "execution_count": 32,
     "metadata": {},
     "output_type": "execute_result"
    },
    {
     "data": {
      "image/png": "[encoded data removed]",
      "text/plain": [
       "<Figure size 864x432 with 1 Axes>"
      ]
     },
     "metadata": {
      "needs_background": "light"
     },
     "output_type": "display_data"
    }
   ],
   "source": [
    "df_monday.groupby(['location']).sum().plot(figsize=(12,6))"
   ]
  },
  {
   "cell_type": "code",
   "execution_count": 33,
   "id": "bdb6b42b-5b24-4f19-a30c-1f5a31514732",
   "metadata": {},
   "outputs": [],
   "source": [
    "grouped = df_monday.groupby(df_monday.location)"
   ]
  },
  {
   "cell_type": "code",
   "execution_count": 34,
   "id": "ce48a932-2637-4da5-9c6d-94a4c9233e59",
   "metadata": {},
   "outputs": [],
   "source": [
    "dairy = grouped.get_group('dairy')"
   ]
  },
  {
   "cell_type": "code",
   "execution_count": 52,
   "id": "f83042fc-4da9-4d3c-a921-93213207f318",
   "metadata": {},
   "outputs": [
    {
     "data": {
      "text/plain": [
       "(895, 2)"
      ]
     },
     "execution_count": 52,
     "metadata": {},
     "output_type": "execute_result"
    }
   ],
   "source": [
    "dairy.shape"
   ]
  },
  {
   "cell_type": "code",
   "execution_count": 59,
   "id": "02ebeb0a-a57b-4334-9876-eb82e6bde31e",
   "metadata": {},
   "outputs": [
    {
     "data": {
      "text/plain": [
       "<AxesSubplot:xlabel='timestamp'>"
      ]
     },
     "execution_count": 59,
     "metadata": {},
     "output_type": "execute_result"
    },
    {
     "data": {
      "image/png": "[encoded data removed]",
      "text/plain": [
       "<Figure size 864x432 with 1 Axes>"
      ]
     },
     "metadata": {
      "needs_background": "light"
     },
     "output_type": "display_data"
    }
   ],
   "source": [
    "dairy.plot(figsize=(12,6))"
   ]
  },
  {
   "cell_type": "code",
   "execution_count": 53,
   "id": "17668271-c589-4bfa-88e0-3b87ecccbf14",
   "metadata": {},
   "outputs": [],
   "source": [
    "drinks = grouped.get_group('drinks')"
   ]
  },
  {
   "cell_type": "code",
   "execution_count": 54,
   "id": "0eab9ad2-9628-4b2f-80a9-6dc414538536",
   "metadata": {},
   "outputs": [
    {
     "data": {
      "text/plain": [
       "(797, 2)"
      ]
     },
     "execution_count": 54,
     "metadata": {},
     "output_type": "execute_result"
    }
   ],
   "source": [
    "drinks.shape"
   ]
  },
  {
   "cell_type": "code",
   "execution_count": null,
   "id": "c859f6db-c6dd-4c38-ac45-9afa5d632996",
   "metadata": {},
   "outputs": [],
   "source": []
  },
  {
   "cell_type": "code",
   "execution_count": null,
   "id": "b721143c-7e3e-46af-9801-eeb5b1767aee",
   "metadata": {},
   "outputs": [],
   "source": []
  },
  {
   "cell_type": "code",
   "execution_count": 43,
   "id": "654c7ea3-2058-4daf-85c6-59d5d9a69210",
   "metadata": {},
   "outputs": [
    {
     "data": {
      "text/plain": [
       "<AxesSubplot:xlabel='timestamp'>"
      ]
     },
     "execution_count": 43,
     "metadata": {},
     "output_type": "execute_result"
    },
    {
     "data": {
      "image/png": "[encoded data removed]",
      "text/plain": [
       "<Figure size 864x432 with 1 Axes>"
      ]
     },
     "metadata": {
      "needs_background": "light"
     },
     "output_type": "display_data"
    }
   ],
   "source": [
    "dairy.loc['2019-09-02 07:03:00':'2019-09-02 08:00:00'].plot(figsize=(12,6))"
   ]
  },
  {
   "cell_type": "code",
   "execution_count": 1,
   "id": "58fdf453-c2b6-477d-8258-a9a517932043",
   "metadata": {},
   "outputs": [
    {
     "data": {
      "text/plain": [
       "'/Users/jbabouem/unsupervised_lemons/unsupervised-lemon-kemtiou/week_08'"
      ]
     },
     "execution_count": 1,
     "metadata": {},
     "output_type": "execute_result"
    }
   ],
   "source": [
    "pwd\n"
   ]
  },
  {
   "cell_type": "markdown",
   "id": "c2428d12-17a6-4c4a-9a56-af75b6b1aa19",
   "metadata": {},
   "source": [
    "### nomber of customer in each section"
   ]
  },
  {
   "cell_type": "code",
   "execution_count": null,
   "id": "ebf53b0c-033a-4b0c-af0f-b928deee50f7",
   "metadata": {},
   "outputs": [],
   "source": [
    "def get_number_of customer(list_section):\n",
    "    count = 0\n",
    "    for section in list:\n",
    "        "
   ]
  },
  {
   "cell_type": "code",
   "execution_count": null,
   "id": "dd8a9979-2825-42d4-bb2b-2a32c5174af6",
   "metadata": {},
   "outputs": [],
   "source": []
  },
  {
   "cell_type": "code",
   "execution_count": null,
   "id": "5dfd10dd-0157-4fa9-91a0-28cc4206dbe0",
   "metadata": {},
   "outputs": [],
   "source": []
  },
  {
   "cell_type": "code",
   "execution_count": null,
   "id": "3d63c9d6-c1eb-493d-8abf-7cafe3ac11b3",
   "metadata": {},
   "outputs": [],
   "source": []
  }
 ],
 "metadata": {
  "kernelspec": {
   "display_name": "Python 3",
   "language": "python",
   "name": "python3"
  },
  "language_info": {
   "codemirror_mode": {
    "name": "ipython",
    "version": 3
   },
   "file_extension": ".py",
   "mimetype": "text/x-python",
   "name": "python",
   "nbconvert_exporter": "python",
   "pygments_lexer": "ipython3",
   "version": "3.8.8"
  }
 },
 "nbformat": 4,
 "nbformat_minor": 5
}
